{
 "cells": [
  {
   "cell_type": "code",
   "execution_count": 33,
   "metadata": {},
   "outputs": [],
   "source": [
    "import sqlite3\n",
    "import pandas as pd\n",
    "\n",
    "\n",
    "connexion = sqlite3.connect(\"../DB/vivino.db\")\n",
    "cursor = connexion.cursor()"
   ]
  },
  {
   "cell_type": "code",
   "execution_count": 34,
   "metadata": {},
   "outputs": [
    {
     "name": "stdout",
     "output_type": "stream",
     "text": [
      "The sql extension is already loaded. To reload it, use:\n",
      "  %reload_ext sql\n"
     ]
    },
    {
     "data": {
      "text/html": [
       "<span style=\"None\">displaylimit: Value None will be treated as 0 (no limit)</span>"
      ],
      "text/plain": [
       "displaylimit: Value None will be treated as 0 (no limit)"
      ]
     },
     "metadata": {},
     "output_type": "display_data"
    }
   ],
   "source": [
    "%load_ext sql\n",
    "\n",
    "%config SqlMagic.displaylimit = None"
   ]
  },
  {
   "cell_type": "code",
   "execution_count": 35,
   "metadata": {},
   "outputs": [],
   "source": [
    "# Connecting to the database\n",
    "%sql sqlite:///../DB/vivino.db"
   ]
  },
  {
   "cell_type": "code",
   "execution_count": 36,
   "metadata": {},
   "outputs": [
    {
     "data": {
      "text/html": [
       "<span style=\"None\">Running query in &#x27;sqlite:///../DB/vivino.db&#x27;</span>"
      ],
      "text/plain": [
       "Running query in 'sqlite:///../DB/vivino.db'"
      ]
     },
     "metadata": {},
     "output_type": "display_data"
    },
    {
     "data": {
      "text/html": [
       "<table>\n",
       "    <thead>\n",
       "        <tr>\n",
       "            <th>name</th>\n",
       "        </tr>\n",
       "    </thead>\n",
       "    <tbody>\n",
       "        <tr>\n",
       "            <td>countries</td>\n",
       "        </tr>\n",
       "        <tr>\n",
       "            <td>grapes</td>\n",
       "        </tr>\n",
       "        <tr>\n",
       "            <td>keywords</td>\n",
       "        </tr>\n",
       "        <tr>\n",
       "            <td>regions</td>\n",
       "        </tr>\n",
       "        <tr>\n",
       "            <td>most_used_grapes_per_country</td>\n",
       "        </tr>\n",
       "        <tr>\n",
       "            <td>toplists</td>\n",
       "        </tr>\n",
       "        <tr>\n",
       "            <td>wines</td>\n",
       "        </tr>\n",
       "        <tr>\n",
       "            <td>vintages</td>\n",
       "        </tr>\n",
       "        <tr>\n",
       "            <td>keywords_wine</td>\n",
       "        </tr>\n",
       "        <tr>\n",
       "            <td>vintage_toplists_rankings</td>\n",
       "        </tr>\n",
       "    </tbody>\n",
       "</table>"
      ],
      "text/plain": [
       "+------------------------------+\n",
       "|             name             |\n",
       "+------------------------------+\n",
       "|          countries           |\n",
       "|            grapes            |\n",
       "|           keywords           |\n",
       "|           regions            |\n",
       "| most_used_grapes_per_country |\n",
       "|           toplists           |\n",
       "|            wines             |\n",
       "|           vintages           |\n",
       "|        keywords_wine         |\n",
       "|  vintage_toplists_rankings   |\n",
       "+------------------------------+"
      ]
     },
     "execution_count": 36,
     "metadata": {},
     "output_type": "execute_result"
    }
   ],
   "source": [
    "%%sql\n",
    "-- Lists all the tables in a particular database\n",
    "SELECT name FROM sqlite_master WHERE type='table';"
   ]
  },
  {
   "cell_type": "code",
   "execution_count": 5,
   "metadata": {},
   "outputs": [],
   "source": [
    "# %%sql\n",
    "# DROP TABLE IF EXISTS flavor_groups"
   ]
  },
  {
   "cell_type": "code",
   "execution_count": 6,
   "metadata": {},
   "outputs": [],
   "source": [
    "# # %%sql\n",
    "# DROP TABLE IF EXISTS wineries"
   ]
  },
  {
   "cell_type": "code",
   "execution_count": 37,
   "metadata": {},
   "outputs": [
    {
     "data": {
      "text/html": [
       "<span style=\"None\">Running query in &#x27;sqlite:///../DB/vivino.db&#x27;</span>"
      ],
      "text/plain": [
       "Running query in 'sqlite:///../DB/vivino.db'"
      ]
     },
     "metadata": {},
     "output_type": "display_data"
    },
    {
     "data": {
      "text/html": [
       "<table>\n",
       "    <thead>\n",
       "        <tr>\n",
       "            <th>name</th>\n",
       "        </tr>\n",
       "    </thead>\n",
       "    <tbody>\n",
       "        <tr>\n",
       "            <td>countries</td>\n",
       "        </tr>\n",
       "        <tr>\n",
       "            <td>grapes</td>\n",
       "        </tr>\n",
       "        <tr>\n",
       "            <td>keywords</td>\n",
       "        </tr>\n",
       "        <tr>\n",
       "            <td>regions</td>\n",
       "        </tr>\n",
       "        <tr>\n",
       "            <td>most_used_grapes_per_country</td>\n",
       "        </tr>\n",
       "        <tr>\n",
       "            <td>toplists</td>\n",
       "        </tr>\n",
       "        <tr>\n",
       "            <td>wines</td>\n",
       "        </tr>\n",
       "        <tr>\n",
       "            <td>vintages</td>\n",
       "        </tr>\n",
       "        <tr>\n",
       "            <td>keywords_wine</td>\n",
       "        </tr>\n",
       "        <tr>\n",
       "            <td>vintage_toplists_rankings</td>\n",
       "        </tr>\n",
       "    </tbody>\n",
       "</table>"
      ],
      "text/plain": [
       "+------------------------------+\n",
       "|             name             |\n",
       "+------------------------------+\n",
       "|          countries           |\n",
       "|            grapes            |\n",
       "|           keywords           |\n",
       "|           regions            |\n",
       "| most_used_grapes_per_country |\n",
       "|           toplists           |\n",
       "|            wines             |\n",
       "|           vintages           |\n",
       "|        keywords_wine         |\n",
       "|  vintage_toplists_rankings   |\n",
       "+------------------------------+"
      ]
     },
     "execution_count": 37,
     "metadata": {},
     "output_type": "execute_result"
    }
   ],
   "source": [
    "%%sql\n",
    "SELECT name FROM sqlite_master WHERE type='table'"
   ]
  },
  {
   "cell_type": "markdown",
   "metadata": {},
   "source": [
    "### 1. We want to highlight 10 wines to increase our sales. Which ones should we choose and why?"
   ]
  },
  {
   "cell_type": "code",
   "execution_count": 38,
   "metadata": {},
   "outputs": [
    {
     "data": {
      "text/html": [
       "<span style=\"None\">Running query in &#x27;sqlite:///../DB/vivino.db&#x27;</span>"
      ],
      "text/plain": [
       "Running query in 'sqlite:///../DB/vivino.db'"
      ]
     },
     "metadata": {},
     "output_type": "display_data"
    },
    {
     "data": {
      "text/html": [
       "<table>\n",
       "    <thead>\n",
       "        <tr>\n",
       "            <th>wine_name</th>\n",
       "            <th>year</th>\n",
       "            <th>price_euros</th>\n",
       "            <th>ratings_average</th>\n",
       "            <th>ratings_count</th>\n",
       "        </tr>\n",
       "    </thead>\n",
       "    <tbody>\n",
       "        <tr>\n",
       "            <td>San Marzano 60 Sessantanni Old Vines Primitivo di Manduria 2018</td>\n",
       "            <td>2017</td>\n",
       "            <td>24.75</td>\n",
       "            <td>4.5</td>\n",
       "            <td>94289</td>\n",
       "        </tr>\n",
       "        <tr>\n",
       "            <td>Tommasi Amarone della Valpolicella Classico 2018</td>\n",
       "            <td>2017</td>\n",
       "            <td>49.8</td>\n",
       "            <td>4.4</td>\n",
       "            <td>77515</td>\n",
       "        </tr>\n",
       "        <tr>\n",
       "            <td>Buena Vista Chateau Buena Vista Cabernet Sauvignon Napa Valley 2018</td>\n",
       "            <td>2018</td>\n",
       "            <td>61.95</td>\n",
       "            <td>4.4</td>\n",
       "            <td>13415</td>\n",
       "        </tr>\n",
       "        <tr>\n",
       "            <td>Guerrieri Guerriero della Terra 2019</td>\n",
       "            <td>2019</td>\n",
       "            <td>27.4</td>\n",
       "            <td>4.4</td>\n",
       "            <td>10185</td>\n",
       "        </tr>\n",
       "        <tr>\n",
       "            <td>Charles Melton Nine Popes 2015</td>\n",
       "            <td>2015</td>\n",
       "            <td>114.6</td>\n",
       "            <td>4.4</td>\n",
       "            <td>2118</td>\n",
       "        </tr>\n",
       "        <tr>\n",
       "            <td>Bodegas Tradición Palo Cortado Tradición Vors 30 Years Sherry</td>\n",
       "            <td>N.V.</td>\n",
       "            <td>99.95</td>\n",
       "            <td>4.4</td>\n",
       "            <td>1050</td>\n",
       "        </tr>\n",
       "        <tr>\n",
       "            <td>Arzuaga Reserva Ribera del Duero 2018</td>\n",
       "            <td>2018</td>\n",
       "            <td>39.55</td>\n",
       "            <td>4.4</td>\n",
       "            <td>11233</td>\n",
       "        </tr>\n",
       "        <tr>\n",
       "            <td>Pago de Carraovejas Tinto 2020</td>\n",
       "            <td>2019</td>\n",
       "            <td>42.95</td>\n",
       "            <td>4.5</td>\n",
       "            <td>65625</td>\n",
       "        </tr>\n",
       "        <tr>\n",
       "            <td>Château des Tours Vacqueyras 2011</td>\n",
       "            <td>2011</td>\n",
       "            <td>250.0</td>\n",
       "            <td>4.4</td>\n",
       "            <td>3412</td>\n",
       "        </tr>\n",
       "        <tr>\n",
       "            <td>Dal Forno Romano Valpolicella Superiore Monte Lodoletta 2004</td>\n",
       "            <td>2004</td>\n",
       "            <td>243.75</td>\n",
       "            <td>4.5</td>\n",
       "            <td>13024</td>\n",
       "        </tr>\n",
       "    </tbody>\n",
       "</table>"
      ],
      "text/plain": [
       "+---------------------------------------------------------------------+------+-------------+-----------------+---------------+\n",
       "|                              wine_name                              | year | price_euros | ratings_average | ratings_count |\n",
       "+---------------------------------------------------------------------+------+-------------+-----------------+---------------+\n",
       "|   San Marzano 60 Sessantanni Old Vines Primitivo di Manduria 2018   | 2017 |    24.75    |       4.5       |     94289     |\n",
       "|           Tommasi Amarone della Valpolicella Classico 2018          | 2017 |     49.8    |       4.4       |     77515     |\n",
       "| Buena Vista Chateau Buena Vista Cabernet Sauvignon Napa Valley 2018 | 2018 |    61.95    |       4.4       |     13415     |\n",
       "|                 Guerrieri Guerriero della Terra 2019                | 2019 |     27.4    |       4.4       |     10185     |\n",
       "|                    Charles Melton Nine Popes 2015                   | 2015 |    114.6    |       4.4       |      2118     |\n",
       "|    Bodegas Tradición Palo Cortado Tradición Vors 30 Years Sherry    | N.V. |    99.95    |       4.4       |      1050     |\n",
       "|                Arzuaga Reserva Ribera del Duero 2018                | 2018 |    39.55    |       4.4       |     11233     |\n",
       "|                    Pago de Carraovejas Tinto 2020                   | 2019 |    42.95    |       4.5       |     65625     |\n",
       "|                  Château des Tours Vacqueyras 2011                  | 2011 |    250.0    |       4.4       |      3412     |\n",
       "|     Dal Forno Romano Valpolicella Superiore Monte Lodoletta 2004    | 2004 |    243.75   |       4.5       |     13024     |\n",
       "+---------------------------------------------------------------------+------+-------------+-----------------+---------------+"
      ]
     },
     "execution_count": 38,
     "metadata": {},
     "output_type": "execute_result"
    }
   ],
   "source": [
    "%%sql\n",
    "\n",
    "SELECT v.name AS wine_name,\n",
    "       MIN(v.year) AS year,\n",
    "       MIN(v.price_euros) AS price_euros,\n",
    "       MAX(v.ratings_average) AS ratings_average,\n",
    "       MAX(wines.ratings_count) AS ratings_count\n",
    "FROM vintages v\n",
    "JOIN wines ON v.wine_id = wines.id\n",
    "JOIN vintage_toplists_rankings ON v.id = vintage_toplists_rankings.vintage_id\n",
    "WHERE v.price_euros < 300\n",
    "GROUP BY wines.name\n",
    "ORDER BY MIN(vintage_toplists_rankings.rank) ASC\n",
    "LIMIT 10;"
   ]
  },
  {
   "cell_type": "code",
   "execution_count": 7,
   "metadata": {},
   "outputs": [
    {
     "data": {
      "text/html": [
       "<div>\n",
       "<style scoped>\n",
       "    .dataframe tbody tr th:only-of-type {\n",
       "        vertical-align: middle;\n",
       "    }\n",
       "\n",
       "    .dataframe tbody tr th {\n",
       "        vertical-align: top;\n",
       "    }\n",
       "\n",
       "    .dataframe thead th {\n",
       "        text-align: right;\n",
       "    }\n",
       "</style>\n",
       "<table border=\"1\" class=\"dataframe\">\n",
       "  <thead>\n",
       "    <tr style=\"text-align: right;\">\n",
       "      <th></th>\n",
       "      <th>wine_name</th>\n",
       "      <th>year</th>\n",
       "      <th>price_euros</th>\n",
       "      <th>ratings_average</th>\n",
       "      <th>ratings_count</th>\n",
       "    </tr>\n",
       "  </thead>\n",
       "  <tbody>\n",
       "    <tr>\n",
       "      <th>0</th>\n",
       "      <td>San Marzano 60 Sessantanni Old Vines Primitivo...</td>\n",
       "      <td>2017</td>\n",
       "      <td>24.75</td>\n",
       "      <td>4.5</td>\n",
       "      <td>94289</td>\n",
       "    </tr>\n",
       "    <tr>\n",
       "      <th>1</th>\n",
       "      <td>Tommasi Amarone della Valpolicella Classico 2018</td>\n",
       "      <td>2017</td>\n",
       "      <td>49.80</td>\n",
       "      <td>4.4</td>\n",
       "      <td>77515</td>\n",
       "    </tr>\n",
       "    <tr>\n",
       "      <th>2</th>\n",
       "      <td>Buena Vista Chateau Buena Vista Cabernet Sauvi...</td>\n",
       "      <td>2018</td>\n",
       "      <td>61.95</td>\n",
       "      <td>4.4</td>\n",
       "      <td>13415</td>\n",
       "    </tr>\n",
       "    <tr>\n",
       "      <th>3</th>\n",
       "      <td>Guerrieri Guerriero della Terra 2019</td>\n",
       "      <td>2019</td>\n",
       "      <td>27.40</td>\n",
       "      <td>4.4</td>\n",
       "      <td>10185</td>\n",
       "    </tr>\n",
       "    <tr>\n",
       "      <th>4</th>\n",
       "      <td>Charles Melton Nine Popes 2015</td>\n",
       "      <td>2015</td>\n",
       "      <td>114.60</td>\n",
       "      <td>4.4</td>\n",
       "      <td>2118</td>\n",
       "    </tr>\n",
       "  </tbody>\n",
       "</table>\n",
       "</div>"
      ],
      "text/plain": [
       "                                           wine_name  year  price_euros  \\\n",
       "0  San Marzano 60 Sessantanni Old Vines Primitivo...  2017        24.75   \n",
       "1   Tommasi Amarone della Valpolicella Classico 2018  2017        49.80   \n",
       "2  Buena Vista Chateau Buena Vista Cabernet Sauvi...  2018        61.95   \n",
       "3               Guerrieri Guerriero della Terra 2019  2019        27.40   \n",
       "4                     Charles Melton Nine Popes 2015  2015       114.60   \n",
       "\n",
       "   ratings_average  ratings_count  \n",
       "0              4.5          94289  \n",
       "1              4.4          77515  \n",
       "2              4.4          13415  \n",
       "3              4.4          10185  \n",
       "4              4.4           2118  "
      ]
     },
     "execution_count": 7,
     "metadata": {},
     "output_type": "execute_result"
    }
   ],
   "source": [
    "query1 = \"\"\"SELECT v.name AS wine_name,\n",
    "       MIN(v.year) AS year,\n",
    "       MIN(v.price_euros) AS price_euros,\n",
    "       MAX(v.ratings_average) AS ratings_average,\n",
    "       MAX(wines.ratings_count) AS ratings_count\n",
    "FROM vintages v\n",
    "JOIN wines ON v.wine_id = wines.id\n",
    "JOIN vintage_toplists_rankings ON v.id = vintage_toplists_rankings.vintage_id\n",
    "WHERE v.price_euros < 300\n",
    "GROUP BY wines.name\n",
    "ORDER BY MIN(vintage_toplists_rankings.rank) ASC\n",
    "LIMIT 10;\n",
    "\"\"\"\n",
    "df = pd.read_sql_query (query1, connexion)\n",
    "df.to_csv(\"../CSV/csv_10_wines.csv\", index=False)\n",
    "df.head()\n"
   ]
  },
  {
   "cell_type": "markdown",
   "metadata": {},
   "source": [
    "### 3. We would like to give awards to the best wineries. Come up with 3 relevant ones. Which wineries should we choose and why?"
   ]
  },
  {
   "cell_type": "code",
   "execution_count": 56,
   "metadata": {},
   "outputs": [
    {
     "data": {
      "text/html": [
       "<span style=\"None\">Running query in &#x27;sqlite:///../DB/vivino.db&#x27;</span>"
      ],
      "text/plain": [
       "Running query in 'sqlite:///../DB/vivino.db'"
      ]
     },
     "metadata": {},
     "output_type": "display_data"
    },
    {
     "data": {
      "text/html": [
       "<table>\n",
       "    <thead>\n",
       "        <tr>\n",
       "            <th>vintage_id</th>\n",
       "            <th>name</th>\n",
       "            <th>url</th>\n",
       "            <th>rank</th>\n",
       "            <th>previous_rank</th>\n",
       "            <th>rank_difference</th>\n",
       "        </tr>\n",
       "    </thead>\n",
       "    <tbody>\n",
       "        <tr>\n",
       "            <td>156154317</td>\n",
       "            <td>Arzuaga Reserva Ribera del Duero 2018</td>\n",
       "            <td><a href=https://joyvino.be/products/arzuaga-reserva-2018>https://joyvino.be/products/arzuaga-reserva-2018</a></td>\n",
       "            <td>1</td>\n",
       "            <td>14</td>\n",
       "            <td>13</td>\n",
       "        </tr>\n",
       "        <tr>\n",
       "            <td>160549459</td>\n",
       "            <td>Guerrieri Guerriero della Terra 2019</td>\n",
       "            <td><a href=http://www.vivino.com/wines/165224957>http://www.vivino.com/wines/165224957</a></td>\n",
       "            <td>1</td>\n",
       "            <td>12</td>\n",
       "            <td>11</td>\n",
       "        </tr>\n",
       "        <tr>\n",
       "            <td>162964134</td>\n",
       "            <td>Pago de Carraovejas Tinto 2020</td>\n",
       "            <td><a href=https://www.grandcruwijnen.nl/2020-pago-de-carraovejas>https://www.grandcruwijnen.nl/2020-pago-de-carraovejas</a></td>\n",
       "            <td>1</td>\n",
       "            <td>11</td>\n",
       "            <td>10</td>\n",
       "        </tr>\n",
       "    </tbody>\n",
       "</table>"
      ],
      "text/plain": [
       "+------------+---------------------------------------+---------------------------------------------------------------------------------------------------------------------------+------+---------------+-----------------+\n",
       "| vintage_id |                  name                 |                                                            url                                                            | rank | previous_rank | rank_difference |\n",
       "+------------+---------------------------------------+---------------------------------------------------------------------------------------------------------------------------+------+---------------+-----------------+\n",
       "| 156154317  | Arzuaga Reserva Ribera del Duero 2018 |       <a href=https://joyvino.be/products/arzuaga-reserva-2018>https://joyvino.be/products/arzuaga-reserva-2018</a>       |  1   |       14      |        13       |\n",
       "| 160549459  |  Guerrieri Guerriero della Terra 2019 |                  <a href=http://www.vivino.com/wines/165224957>http://www.vivino.com/wines/165224957</a>                  |  1   |       12      |        11       |\n",
       "| 162964134  |     Pago de Carraovejas Tinto 2020    | <a href=https://www.grandcruwijnen.nl/2020-pago-de-carraovejas>https://www.grandcruwijnen.nl/2020-pago-de-carraovejas</a> |  1   |       11      |        10       |\n",
       "+------------+---------------------------------------+---------------------------------------------------------------------------------------------------------------------------+------+---------------+-----------------+"
      ]
     },
     "execution_count": 56,
     "metadata": {},
     "output_type": "execute_result"
    }
   ],
   "source": [
    "%%sql\n",
    "\n",
    "SELECT \n",
    "    t.vintage_id, \n",
    "    vintages.name, \n",
    "    wines.url, \n",
    "    t.rank, \n",
    "    t.previous_rank, \n",
    "    (t.previous_rank - t.rank) AS rank_difference\n",
    "FROM vintage_toplists_rankings t\n",
    "JOIN vintages\n",
    "    ON t.vintage_id = vintages.id\n",
    "JOIN wines\n",
    "    ON vintages.wine_id = wines.id\n",
    "WHERE t.rank = 1\n",
    "GROUP BY vintages.name, t.vintage_id, wines.url, t.rank, t.previous_rank\n",
    "ORDER BY rank_difference DESC\n",
    "LIMIT 3;"
   ]
  },
  {
   "cell_type": "code",
   "execution_count": 58,
   "metadata": {},
   "outputs": [
    {
     "data": {
      "text/html": [
       "<div>\n",
       "<style scoped>\n",
       "    .dataframe tbody tr th:only-of-type {\n",
       "        vertical-align: middle;\n",
       "    }\n",
       "\n",
       "    .dataframe tbody tr th {\n",
       "        vertical-align: top;\n",
       "    }\n",
       "\n",
       "    .dataframe thead th {\n",
       "        text-align: right;\n",
       "    }\n",
       "</style>\n",
       "<table border=\"1\" class=\"dataframe\">\n",
       "  <thead>\n",
       "    <tr style=\"text-align: right;\">\n",
       "      <th></th>\n",
       "      <th>vintage_id</th>\n",
       "      <th>name</th>\n",
       "      <th>url</th>\n",
       "      <th>rank</th>\n",
       "      <th>previous_rank</th>\n",
       "      <th>rank_difference</th>\n",
       "    </tr>\n",
       "  </thead>\n",
       "  <tbody>\n",
       "    <tr>\n",
       "      <th>0</th>\n",
       "      <td>156154317</td>\n",
       "      <td>Arzuaga Reserva Ribera del Duero 2018</td>\n",
       "      <td>https://joyvino.be/products/arzuaga-reserva-2018</td>\n",
       "      <td>1</td>\n",
       "      <td>14</td>\n",
       "      <td>13</td>\n",
       "    </tr>\n",
       "    <tr>\n",
       "      <th>1</th>\n",
       "      <td>160549459</td>\n",
       "      <td>Guerrieri Guerriero della Terra 2019</td>\n",
       "      <td>http://www.vivino.com/wines/165224957</td>\n",
       "      <td>1</td>\n",
       "      <td>12</td>\n",
       "      <td>11</td>\n",
       "    </tr>\n",
       "    <tr>\n",
       "      <th>2</th>\n",
       "      <td>162964134</td>\n",
       "      <td>Pago de Carraovejas Tinto 2020</td>\n",
       "      <td>https://www.grandcruwijnen.nl/2020-pago-de-car...</td>\n",
       "      <td>1</td>\n",
       "      <td>11</td>\n",
       "      <td>10</td>\n",
       "    </tr>\n",
       "  </tbody>\n",
       "</table>\n",
       "</div>"
      ],
      "text/plain": [
       "   vintage_id                                   name  \\\n",
       "0   156154317  Arzuaga Reserva Ribera del Duero 2018   \n",
       "1   160549459   Guerrieri Guerriero della Terra 2019   \n",
       "2   162964134         Pago de Carraovejas Tinto 2020   \n",
       "\n",
       "                                                 url  rank  previous_rank  \\\n",
       "0   https://joyvino.be/products/arzuaga-reserva-2018     1             14   \n",
       "1              http://www.vivino.com/wines/165224957     1             12   \n",
       "2  https://www.grandcruwijnen.nl/2020-pago-de-car...     1             11   \n",
       "\n",
       "   rank_difference  \n",
       "0               13  \n",
       "1               11  \n",
       "2               10  "
      ]
     },
     "execution_count": 58,
     "metadata": {},
     "output_type": "execute_result"
    }
   ],
   "source": [
    "query3 = \"\"\"SELECT \n",
    "    t.vintage_id, \n",
    "    vintages.name, \n",
    "    wines.url, \n",
    "    t.rank, \n",
    "    t.previous_rank, \n",
    "    (t.previous_rank - t.rank) AS rank_difference\n",
    "FROM vintage_toplists_rankings t\n",
    "JOIN vintages\n",
    "    ON t.vintage_id = vintages.id\n",
    "JOIN wines\n",
    "    ON vintages.wine_id = wines.id\n",
    "WHERE t.rank = 1\n",
    "GROUP BY vintages.name, t.vintage_id, wines.url, t.rank, t.previous_rank\n",
    "ORDER BY rank_difference DESC\n",
    "LIMIT 3;\n",
    "\"\"\"\n",
    "df = pd.read_sql_query (query3, connexion)\n",
    "df.to_csv(\"../CSV/csv_top3_wineries_top1.csv\", index=False)\n",
    "df.head()"
   ]
  },
  {
   "cell_type": "code",
   "execution_count": 59,
   "metadata": {},
   "outputs": [
    {
     "data": {
      "text/html": [
       "<div>\n",
       "<style scoped>\n",
       "    .dataframe tbody tr th:only-of-type {\n",
       "        vertical-align: middle;\n",
       "    }\n",
       "\n",
       "    .dataframe tbody tr th {\n",
       "        vertical-align: top;\n",
       "    }\n",
       "\n",
       "    .dataframe thead th {\n",
       "        text-align: right;\n",
       "    }\n",
       "</style>\n",
       "<table border=\"1\" class=\"dataframe\">\n",
       "  <thead>\n",
       "    <tr style=\"text-align: right;\">\n",
       "      <th></th>\n",
       "      <th>vintage_id</th>\n",
       "      <th>name</th>\n",
       "      <th>url</th>\n",
       "      <th>rank</th>\n",
       "      <th>previous_rank</th>\n",
       "      <th>rank_difference</th>\n",
       "    </tr>\n",
       "  </thead>\n",
       "  <tbody>\n",
       "    <tr>\n",
       "      <th>0</th>\n",
       "      <td>156154317</td>\n",
       "      <td>Arzuaga Reserva Ribera del Duero 2018</td>\n",
       "      <td>https://joyvino.be/products/arzuaga-reserva-2018</td>\n",
       "      <td>1</td>\n",
       "      <td>14</td>\n",
       "      <td>13</td>\n",
       "    </tr>\n",
       "    <tr>\n",
       "      <th>1</th>\n",
       "      <td>156105768</td>\n",
       "      <td>Château Pape Clément Pessac-Léognan (Grand Cru...</td>\n",
       "      <td>https://www.grandcruwijnen.nl/2018-chateau-pap...</td>\n",
       "      <td>2</td>\n",
       "      <td>15</td>\n",
       "      <td>13</td>\n",
       "    </tr>\n",
       "    <tr>\n",
       "      <th>2</th>\n",
       "      <td>156132702</td>\n",
       "      <td>Tommasi Amarone della Valpolicella Classico 2018</td>\n",
       "      <td>https://www.seulementproduitsitaliens.be/vino/...</td>\n",
       "      <td>4</td>\n",
       "      <td>17</td>\n",
       "      <td>13</td>\n",
       "    </tr>\n",
       "  </tbody>\n",
       "</table>\n",
       "</div>"
      ],
      "text/plain": [
       "   vintage_id                                               name  \\\n",
       "0   156154317              Arzuaga Reserva Ribera del Duero 2018   \n",
       "1   156105768  Château Pape Clément Pessac-Léognan (Grand Cru...   \n",
       "2   156132702   Tommasi Amarone della Valpolicella Classico 2018   \n",
       "\n",
       "                                                 url  rank  previous_rank  \\\n",
       "0   https://joyvino.be/products/arzuaga-reserva-2018     1             14   \n",
       "1  https://www.grandcruwijnen.nl/2018-chateau-pap...     2             15   \n",
       "2  https://www.seulementproduitsitaliens.be/vino/...     4             17   \n",
       "\n",
       "   rank_difference  \n",
       "0               13  \n",
       "1               13  \n",
       "2               13  "
      ]
     },
     "execution_count": 59,
     "metadata": {},
     "output_type": "execute_result"
    }
   ],
   "source": [
    "query3_1 = \"\"\"SELECT \n",
    "    t.vintage_id, \n",
    "    vintages.name, \n",
    "    wines.url, \n",
    "    t.rank, \n",
    "    t.previous_rank, \n",
    "    (t.previous_rank - t.rank) AS rank_difference\n",
    "FROM vintage_toplists_rankings t\n",
    "JOIN vintages\n",
    "    ON t.vintage_id = vintages.id\n",
    "JOIN wines\n",
    "    ON vintages.wine_id = wines.id\n",
    "GROUP BY vintages.name, t.vintage_id, wines.url, t.rank, t.previous_rank\n",
    "ORDER BY rank_difference DESC\n",
    "LIMIT 3;\n",
    "\"\"\"\n",
    "df = pd.read_sql_query (query3_1, connexion)\n",
    "df.to_csv(\"../CSV/csv_top3_wineries_bestgap.csv\", index=False)\n",
    "df.head()"
   ]
  },
  {
   "cell_type": "markdown",
   "metadata": {},
   "source": [
    "### 4. We detected that a big cluster of customers likes a specific combination of tastes. We identified a few keywords that match these tastes: coffee, toast, green apple, cream, and citrus (note that these keywords are case sensitive ⚠️). We would like you to find all the wines that are related to these keywords. Check that at least 10 users confirm those keywords, to ensure the accuracy of the selection. Additionally, identify an appropriate group name for this cluster."
   ]
  },
  {
   "cell_type": "code",
   "execution_count": null,
   "metadata": {},
   "outputs": [],
   "source": []
  },
  {
   "cell_type": "markdown",
   "metadata": {},
   "source": [
    "### 5. We would like to select wines that are easy to find all over the world. Find the top 3 most common grapes all over the world and for each grape, give us the the 5 best rated wines."
   ]
  },
  {
   "cell_type": "code",
   "execution_count": null,
   "metadata": {},
   "outputs": [],
   "source": []
  },
  {
   "cell_type": "markdown",
   "metadata": {},
   "source": [
    "### 6. We would like to create a country leaderboard. Come up with a visual that shows the average wine rating for each country. Do the same for the vintages."
   ]
  },
  {
   "cell_type": "code",
   "execution_count": null,
   "metadata": {},
   "outputs": [],
   "source": []
  },
  {
   "cell_type": "markdown",
   "metadata": {},
   "source": [
    "### 7. One of our VIP clients likes Cabernet Sauvignon and would like our top 5 recommendations. Which wines would you recommend to him?"
   ]
  },
  {
   "cell_type": "markdown",
   "metadata": {},
   "source": []
  }
 ],
 "metadata": {
  "kernelspec": {
   "display_name": "vivino_project",
   "language": "python",
   "name": "python3"
  },
  "language_info": {
   "codemirror_mode": {
    "name": "ipython",
    "version": 3
   },
   "file_extension": ".py",
   "mimetype": "text/x-python",
   "name": "python",
   "nbconvert_exporter": "python",
   "pygments_lexer": "ipython3",
   "version": "3.12.4"
  }
 },
 "nbformat": 4,
 "nbformat_minor": 2
}
